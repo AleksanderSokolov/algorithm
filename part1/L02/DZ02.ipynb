{
  "nbformat": 4,
  "nbformat_minor": 0,
  "metadata": {
    "colab": {
      "name": "Untitled1.ipynb",
      "provenance": [],
      "include_colab_link": true
    },
    "kernelspec": {
      "name": "python3",
      "display_name": "Python 3"
    }
  },
  "cells": [
    {
      "cell_type": "markdown",
      "metadata": {
        "id": "view-in-github",
        "colab_type": "text"
      },
      "source": [
        "<a href=\"https://colab.research.google.com/github/AleksanderSokolov/algorithm/blob/master/part1/L02/DZ02.ipynb\" target=\"_parent\"><img src=\"https://colab.research.google.com/assets/colab-badge.svg\" alt=\"Open In Colab\"/></a>"
      ]
    },
    {
      "cell_type": "code",
      "metadata": {
        "id": "y5-UJ6Y1rYFn",
        "colab_type": "code",
        "colab": {}
      },
      "source": [
        "1. Постройте график зависимости весов всех признаков от lambda в L2-регуляризации (на данных из урока).\n",
        " 2. Можно ли к одному и тому же признаку применить сразу и нормализацию, и стандартизацию?\n",
        " 3*. Напишите функцию наподобие eval_model_reg2, но для применения L1-регуляризации."
      ],
      "execution_count": 0,
      "outputs": []
    }
  ]
}