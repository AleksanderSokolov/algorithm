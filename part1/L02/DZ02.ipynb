{
  "nbformat": 4,
  "nbformat_minor": 0,
  "metadata": {
    "colab": {
      "name": "Untitled1.ipynb",
      "provenance": [],
      "include_colab_link": true
    },
    "kernelspec": {
      "name": "python3",
      "display_name": "Python 3"
    }
  },
  "cells": [
    {
      "cell_type": "markdown",
      "metadata": {
        "id": "view-in-github",
        "colab_type": "text"
      },
      "source": [
        "<a href=\"https://colab.research.google.com/github/AleksanderSokolov/algorithm/blob/master/part1/L02/DZ02.ipynb\" target=\"_parent\"><img src=\"https://colab.research.google.com/assets/colab-badge.svg\" alt=\"Open In Colab\"/></a>"
      ]
    },
    {
      "cell_type": "code",
      "metadata": {
        "id": "y5-UJ6Y1rYFn",
        "colab_type": "code",
        "colab": {}
      },
      "source": [
        "1. Постройте график зависимости весов всех признаков от lambda в L2-регуляризации (на данных из урока).\n",
        " 2. Можно ли к одному и тому же признаку применить сразу и нормализацию, и стандартизацию?\n",
        " 3*. Напишите функцию наподобие eval_model_reg2, но для применения L1-регуляризации."
      ],
      "execution_count": 0,
      "outputs": []
    },
    {
      "cell_type": "code",
      "metadata": {
        "id": "pVQZGv6Kt7jJ",
        "colab_type": "code",
        "colab": {}
      },
      "source": [
        "import numpy as np\n",
        "import matplotlib.pyplot as plt"
      ],
      "execution_count": 0,
      "outputs": []
    },
    {
      "cell_type": "code",
      "metadata": {
        "id": "ltmLsKgHt963",
        "colab_type": "code",
        "colab": {}
      },
      "source": [
        "X = np.array([[1, 1, 1, 1, 1, 1, 1, 1, 1, 1],\n",
        "              [1, 1, 2, 1, 3, 0, 5, 10, 1, 2],\n",
        "              [500, 700, 750, 600, 1450,\n",
        "               800, 1500, 2000, 450, 1000],\n",
        "              [1, 1, 2, 1, 2, \n",
        "               1, 3, 3, 1, 2]])"
      ],
      "execution_count": 0,
      "outputs": []
    },
    {
      "cell_type": "code",
      "metadata": {
        "id": "oqb01W9zuA_w",
        "colab_type": "code",
        "colab": {}
      },
      "source": [
        "y = [45, 55, 50, 59, 65,\n",
        "    35, 75, 80, 50, 60]"
      ],
      "execution_count": 0,
      "outputs": []
    },
    {
      "cell_type": "code",
      "metadata": {
        "id": "ZL4XCz-guDw9",
        "colab_type": "code",
        "colab": {
          "base_uri": "https://localhost:8080/",
          "height": 33
        },
        "outputId": "dcf719df-7d64-44b7-ca11-4163cb2749fb"
      },
      "source": [
        "# Нормализация [0, 1]\n",
        "X[1].min(), X[1].max()"
      ],
      "execution_count": 5,
      "outputs": [
        {
          "output_type": "execute_result",
          "data": {
            "text/plain": [
              "(0, 10)"
            ]
          },
          "metadata": {
            "tags": []
          },
          "execution_count": 5
        }
      ]
    },
    {
      "cell_type": "code",
      "metadata": {
        "id": "N0VjfFr4uJol",
        "colab_type": "code",
        "colab": {
          "base_uri": "https://localhost:8080/",
          "height": 33
        },
        "outputId": "80f7766e-07e7-4ab8-b993-2978c0edbd65"
      },
      "source": [
        "# Нормализация [0, 1]\n",
        "X[1].min(), X[1].max()"
      ],
      "execution_count": 7,
      "outputs": [
        {
          "output_type": "execute_result",
          "data": {
            "text/plain": [
              "(0, 10)"
            ]
          },
          "metadata": {
            "tags": []
          },
          "execution_count": 7
        }
      ]
    },
    {
      "cell_type": "code",
      "metadata": {
        "id": "R-ER6JJYuTBR",
        "colab_type": "code",
        "colab": {
          "base_uri": "https://localhost:8080/",
          "height": 33
        },
        "outputId": "3a80265e-0aed-4ed3-94e8-799db945c129"
      },
      "source": [
        "X[2].min(), X[2].max()"
      ],
      "execution_count": 8,
      "outputs": [
        {
          "output_type": "execute_result",
          "data": {
            "text/plain": [
              "(450, 2000)"
            ]
          },
          "metadata": {
            "tags": []
          },
          "execution_count": 8
        }
      ]
    },
    {
      "cell_type": "code",
      "metadata": {
        "id": "Bnn33ynGua1y",
        "colab_type": "code",
        "colab": {
          "base_uri": "https://localhost:8080/",
          "height": 147
        },
        "outputId": "daafa950-5717-4330-9338-3d0123a04136"
      },
      "source": [
        "X_norm = X.copy()\n",
        "X_norm = X_norm.astype(np.float64)\n",
        "X_norm"
      ],
      "execution_count": 9,
      "outputs": [
        {
          "output_type": "execute_result",
          "data": {
            "text/plain": [
              "array([[1.00e+00, 1.00e+00, 1.00e+00, 1.00e+00, 1.00e+00, 1.00e+00,\n",
              "        1.00e+00, 1.00e+00, 1.00e+00, 1.00e+00],\n",
              "       [1.00e+00, 1.00e+00, 2.00e+00, 1.00e+00, 3.00e+00, 0.00e+00,\n",
              "        5.00e+00, 1.00e+01, 1.00e+00, 2.00e+00],\n",
              "       [5.00e+02, 7.00e+02, 7.50e+02, 6.00e+02, 1.45e+03, 8.00e+02,\n",
              "        1.50e+03, 2.00e+03, 4.50e+02, 1.00e+03],\n",
              "       [1.00e+00, 1.00e+00, 2.00e+00, 1.00e+00, 2.00e+00, 1.00e+00,\n",
              "        3.00e+00, 3.00e+00, 1.00e+00, 2.00e+00]])"
            ]
          },
          "metadata": {
            "tags": []
          },
          "execution_count": 9
        }
      ]
    },
    {
      "cell_type": "code",
      "metadata": {
        "id": "YzMmtTHvuU-p",
        "colab_type": "code",
        "colab": {
          "base_uri": "https://localhost:8080/",
          "height": 147
        },
        "outputId": "a2cdca08-37fe-45b2-9551-35440b14e214"
      },
      "source": [
        "X_norm[1] = (X[1] - X[1].min()) / (X[1].max() - X[1].min())\n",
        "X_norm"
      ],
      "execution_count": 10,
      "outputs": [
        {
          "output_type": "execute_result",
          "data": {
            "text/plain": [
              "array([[1.00e+00, 1.00e+00, 1.00e+00, 1.00e+00, 1.00e+00, 1.00e+00,\n",
              "        1.00e+00, 1.00e+00, 1.00e+00, 1.00e+00],\n",
              "       [1.00e-01, 1.00e-01, 2.00e-01, 1.00e-01, 3.00e-01, 0.00e+00,\n",
              "        5.00e-01, 1.00e+00, 1.00e-01, 2.00e-01],\n",
              "       [5.00e+02, 7.00e+02, 7.50e+02, 6.00e+02, 1.45e+03, 8.00e+02,\n",
              "        1.50e+03, 2.00e+03, 4.50e+02, 1.00e+03],\n",
              "       [1.00e+00, 1.00e+00, 2.00e+00, 1.00e+00, 2.00e+00, 1.00e+00,\n",
              "        3.00e+00, 3.00e+00, 1.00e+00, 2.00e+00]])"
            ]
          },
          "metadata": {
            "tags": []
          },
          "execution_count": 10
        }
      ]
    },
    {
      "cell_type": "code",
      "metadata": {
        "id": "ueYs3-gdukxG",
        "colab_type": "code",
        "colab": {
          "base_uri": "https://localhost:8080/",
          "height": 147
        },
        "outputId": "7af45d2c-95b3-40f6-cfc2-fb3af7345ba2"
      },
      "source": [
        "X_norm[2] = (X[2] - X[2].min()) / (X[2].max() - X[2].min())\n",
        "X_norm"
      ],
      "execution_count": 11,
      "outputs": [
        {
          "output_type": "execute_result",
          "data": {
            "text/plain": [
              "array([[1.        , 1.        , 1.        , 1.        , 1.        ,\n",
              "        1.        , 1.        , 1.        , 1.        , 1.        ],\n",
              "       [0.1       , 0.1       , 0.2       , 0.1       , 0.3       ,\n",
              "        0.        , 0.5       , 1.        , 0.1       , 0.2       ],\n",
              "       [0.03225806, 0.16129032, 0.19354839, 0.09677419, 0.64516129,\n",
              "        0.22580645, 0.67741935, 1.        , 0.        , 0.35483871],\n",
              "       [1.        , 1.        , 2.        , 1.        , 2.        ,\n",
              "        1.        , 3.        , 3.        , 1.        , 2.        ]])"
            ]
          },
          "metadata": {
            "tags": []
          },
          "execution_count": 11
        }
      ]
    },
    {
      "cell_type": "code",
      "metadata": {
        "id": "CqZTfvmOum_Y",
        "colab_type": "code",
        "colab": {}
      },
      "source": [
        "# Стандартизация"
      ],
      "execution_count": 0,
      "outputs": []
    },
    {
      "cell_type": "code",
      "metadata": {
        "id": "y2y0qlWHuvJg",
        "colab_type": "code",
        "colab": {
          "base_uri": "https://localhost:8080/",
          "height": 313
        },
        "outputId": "8d80886d-7b76-4a5b-b0a9-eb9685f74705"
      },
      "source": [
        "plt.hist(X[1])"
      ],
      "execution_count": 13,
      "outputs": [
        {
          "output_type": "execute_result",
          "data": {
            "text/plain": [
              "(array([1., 4., 2., 1., 0., 1., 0., 0., 0., 1.]),\n",
              " array([ 0.,  1.,  2.,  3.,  4.,  5.,  6.,  7.,  8.,  9., 10.]),\n",
              " <a list of 10 Patch objects>)"
            ]
          },
          "metadata": {
            "tags": []
          },
          "execution_count": 13
        },
        {
          "output_type": "display_data",
          "data": {
            "image/png": "[encoded data removed]",
            "text/plain": [
              "<Figure size 432x288 with 1 Axes>"
            ]
          },
          "metadata": {
            "tags": []
          }
        }
      ]
    },
    {
      "cell_type": "code",
      "metadata": {
        "id": "UMfrJij_KZ8_",
        "colab_type": "code",
        "colab": {
          "base_uri": "https://localhost:8080/",
          "height": 330
        },
        "outputId": "61b51be2-107d-4f1c-8d06-9cadef9612ce"
      },
      "source": [
        "plt.hist(X[2])"
      ],
      "execution_count": 14,
      "outputs": [
        {
          "output_type": "execute_result",
          "data": {
            "text/plain": [
              "(array([3., 2., 1., 1., 0., 0., 2., 0., 0., 1.]),\n",
              " array([ 450.,  605.,  760.,  915., 1070., 1225., 1380., 1535., 1690.,\n",
              "        1845., 2000.]),\n",
              " <a list of 10 Patch objects>)"
            ]
          },
          "metadata": {
            "tags": []
          },
          "execution_count": 14
        },
        {
          "output_type": "display_data",
          "data": {
            "image/png": "[encoded data removed]",
            "text/plain": [
              "<Figure size 432x288 with 1 Axes>"
            ]
          },
          "metadata": {
            "tags": []
          }
        }
      ]
    },
    {
      "cell_type": "code",
      "metadata": {
        "id": "oP3vpyhtKe3Z",
        "colab_type": "code",
        "colab": {
          "base_uri": "https://localhost:8080/",
          "height": 33
        },
        "outputId": "c824d8e3-2848-491f-b465-d2310e88ede3"
      },
      "source": [
        "X1_mean = X[1].mean()\n",
        "X1_mean"
      ],
      "execution_count": 15,
      "outputs": [
        {
          "output_type": "execute_result",
          "data": {
            "text/plain": [
              "2.6"
            ]
          },
          "metadata": {
            "tags": []
          },
          "execution_count": 15
        }
      ]
    },
    {
      "cell_type": "code",
      "metadata": {
        "id": "6czsGHLvKht1",
        "colab_type": "code",
        "colab": {
          "base_uri": "https://localhost:8080/",
          "height": 33
        },
        "outputId": "e36c7b68-23ba-4d1d-ebd6-fa4e7b35618d"
      },
      "source": [
        "X1_std = X[1].std()\n",
        "X1_std"
      ],
      "execution_count": 16,
      "outputs": [
        {
          "output_type": "execute_result",
          "data": {
            "text/plain": [
              "2.8000000000000003"
            ]
          },
          "metadata": {
            "tags": []
          },
          "execution_count": 16
        }
      ]
    },
    {
      "cell_type": "code",
      "metadata": {
        "id": "gzZ2b_GeKq9P",
        "colab_type": "code",
        "colab": {}
      },
      "source": [
        "X_st = X.copy().astype(np.float64)"
      ],
      "execution_count": 0,
      "outputs": []
    },
    {
      "cell_type": "code",
      "metadata": {
        "id": "llOJUCFmOC5K",
        "colab_type": "code",
        "colab": {
          "base_uri": "https://localhost:8080/",
          "height": 277
        },
        "outputId": "fd0ace2c-f635-4dfe-acc3-0556d9f0d535"
      },
      "source": [
        "X_st[1] = (X[1] - X1_mean) / X1_std\n",
        "X_st"
      ],
      "execution_count": 18,
      "outputs": [
        {
          "output_type": "execute_result",
          "data": {
            "text/plain": [
              "array([[ 1.00000000e+00,  1.00000000e+00,  1.00000000e+00,\n",
              "         1.00000000e+00,  1.00000000e+00,  1.00000000e+00,\n",
              "         1.00000000e+00,  1.00000000e+00,  1.00000000e+00,\n",
              "         1.00000000e+00],\n",
              "       [-5.71428571e-01, -5.71428571e-01, -2.14285714e-01,\n",
              "        -5.71428571e-01,  1.42857143e-01, -9.28571429e-01,\n",
              "         8.57142857e-01,  2.64285714e+00, -5.71428571e-01,\n",
              "        -2.14285714e-01],\n",
              "       [ 5.00000000e+02,  7.00000000e+02,  7.50000000e+02,\n",
              "         6.00000000e+02,  1.45000000e+03,  8.00000000e+02,\n",
              "         1.50000000e+03,  2.00000000e+03,  4.50000000e+02,\n",
              "         1.00000000e+03],\n",
              "       [ 1.00000000e+00,  1.00000000e+00,  2.00000000e+00,\n",
              "         1.00000000e+00,  2.00000000e+00,  1.00000000e+00,\n",
              "         3.00000000e+00,  3.00000000e+00,  1.00000000e+00,\n",
              "         2.00000000e+00]])"
            ]
          },
          "metadata": {
            "tags": []
          },
          "execution_count": 18
        }
      ]
    },
    {
      "cell_type": "code",
      "metadata": {
        "id": "zGQFGiieOIsz",
        "colab_type": "code",
        "colab": {
          "base_uri": "https://localhost:8080/",
          "height": 346
        },
        "outputId": "11ef3339-b56d-487e-90ff-d0672627baab"
      },
      "source": [
        "plt.hist(X_st[1])"
      ],
      "execution_count": 19,
      "outputs": [
        {
          "output_type": "execute_result",
          "data": {
            "text/plain": [
              "(array([1., 4., 2., 1., 1., 0., 0., 0., 0., 1.]),\n",
              " array([-0.92857143, -0.57142857, -0.21428571,  0.14285714,  0.5       ,\n",
              "         0.85714286,  1.21428571,  1.57142857,  1.92857143,  2.28571429,\n",
              "         2.64285714]),\n",
              " <a list of 10 Patch objects>)"
            ]
          },
          "metadata": {
            "tags": []
          },
          "execution_count": 19
        },
        {
          "output_type": "display_data",
          "data": {
            "image/png": "[encoded data removed]",
            "text/plain": [
              "<Figure size 432x288 with 1 Axes>"
            ]
          },
          "metadata": {
            "tags": []
          }
        }
      ]
    },
    {
      "cell_type": "code",
      "metadata": {
        "id": "lbBSM1Y5OPq8",
        "colab_type": "code",
        "colab": {}
      },
      "source": [
        "def calc_std_feat(x):\n",
        "  res = (x - x.mean()) / x.std()\n",
        "  return res"
      ],
      "execution_count": 0,
      "outputs": []
    },
    {
      "cell_type": "code",
      "metadata": {
        "id": "jg4-XxmgOl4M",
        "colab_type": "code",
        "colab": {}
      },
      "source": [
        "X_st[2] = calc_std_feat(X[2])"
      ],
      "execution_count": 0,
      "outputs": []
    },
    {
      "cell_type": "code",
      "metadata": {
        "id": "TXJhIbAuOoCb",
        "colab_type": "code",
        "colab": {
          "base_uri": "https://localhost:8080/",
          "height": 147
        },
        "outputId": "11d3f5bd-a3d9-4f10-a9a8-0e621bc97913"
      },
      "source": [
        "X_st[3] = calc_std_feat(X[3])\n",
        "X_st"
      ],
      "execution_count": 22,
      "outputs": [
        {
          "output_type": "execute_result",
          "data": {
            "text/plain": [
              "array([[ 1.        ,  1.        ,  1.        ,  1.        ,  1.        ,\n",
              "         1.        ,  1.        ,  1.        ,  1.        ,  1.        ],\n",
              "       [-0.57142857, -0.57142857, -0.21428571, -0.57142857,  0.14285714,\n",
              "        -0.92857143,  0.85714286,  2.64285714, -0.57142857, -0.21428571],\n",
              "       [-0.97958969, -0.56713087, -0.46401617, -0.77336028,  0.97958969,\n",
              "        -0.36090146,  1.08270439,  2.11385144, -1.08270439,  0.05155735],\n",
              "       [-0.89625816, -0.89625816,  0.38411064, -0.89625816,  0.38411064,\n",
              "        -0.89625816,  1.66447944,  1.66447944, -0.89625816,  0.38411064]])"
            ]
          },
          "metadata": {
            "tags": []
          },
          "execution_count": 22
        }
      ]
    },
    {
      "cell_type": "code",
      "metadata": {
        "id": "4ECie0PGOrVU",
        "colab_type": "code",
        "colab": {
          "base_uri": "https://localhost:8080/",
          "height": 147
        },
        "outputId": "a56eaf7d-a737-4d5a-cc61-93397062dbdb"
      },
      "source": [
        "X_st"
      ],
      "execution_count": 23,
      "outputs": [
        {
          "output_type": "execute_result",
          "data": {
            "text/plain": [
              "array([[ 1.        ,  1.        ,  1.        ,  1.        ,  1.        ,\n",
              "         1.        ,  1.        ,  1.        ,  1.        ,  1.        ],\n",
              "       [-0.57142857, -0.57142857, -0.21428571, -0.57142857,  0.14285714,\n",
              "        -0.92857143,  0.85714286,  2.64285714, -0.57142857, -0.21428571],\n",
              "       [-0.97958969, -0.56713087, -0.46401617, -0.77336028,  0.97958969,\n",
              "        -0.36090146,  1.08270439,  2.11385144, -1.08270439,  0.05155735],\n",
              "       [-0.89625816, -0.89625816,  0.38411064, -0.89625816,  0.38411064,\n",
              "        -0.89625816,  1.66447944,  1.66447944, -0.89625816,  0.38411064]])"
            ]
          },
          "metadata": {
            "tags": []
          },
          "execution_count": 23
        }
      ]
    },
    {
      "cell_type": "code",
      "metadata": {
        "id": "0klKFEFLOyFG",
        "colab_type": "code",
        "colab": {}
      },
      "source": [
        "# SGD"
      ],
      "execution_count": 0,
      "outputs": []
    },
    {
      "cell_type": "code",
      "metadata": {
        "id": "oV7uxT-BO3B0",
        "colab_type": "code",
        "colab": {}
      },
      "source": [
        "def calc_mse(y, y_pred):\n",
        "  err = np.mean((y - y_pred)**2)\n",
        "  return err"
      ],
      "execution_count": 0,
      "outputs": []
    },
    {
      "cell_type": "code",
      "metadata": {
        "id": "n5vnZJteO8xP",
        "colab_type": "code",
        "colab": {}
      },
      "source": [
        "def eval_model(X, y, iterations, alpha=1e-4):\n",
        "  W = np.random.randn(X.shape[0])\n",
        "  n = X.shape[1]\n",
        "  for i in range(1, iterations+1):\n",
        "    y_pred = np.dot(W, X)\n",
        "    err = calc_mse(y, y_pred)\n",
        "    W -= (alpha * (1/n * 2 * np.dot((y_pred - y), X.T)))\n",
        "    if i % (iterations / 10) == 0:\n",
        "      print(i, W, err)\n",
        "  return W"
      ],
      "execution_count": 0,
      "outputs": []
    },
    {
      "cell_type": "code",
      "metadata": {
        "id": "9zJCh1qDO_O3",
        "colab_type": "code",
        "colab": {
          "base_uri": "https://localhost:8080/",
          "height": 196
        },
        "outputId": "33150529-ad00-42b5-9acc-db391904e0fd"
      },
      "source": [
        "eval_model(X_st, y, iterations=1000, alpha=1e-2)"
      ],
      "execution_count": 27,
      "outputs": [
        {
          "output_type": "stream",
          "text": [
            "100 [49.9755057   4.70766658  3.33297191  3.5595032 ] 97.71689912317127\n",
            "200 [56.41536686  4.96875159  3.03324615  3.64425854] 41.163015867997196\n",
            "300 [57.26941839  5.17116865  2.77054135  3.7080442 ] 40.05660193504417\n",
            "400 [57.38268232  5.33717973  2.55065257  3.76474569] 39.95959492452975\n",
            "500 [57.39770334  5.47356283  2.36667333  3.81471486] 39.90403906356213\n",
            "600 [57.39969542  5.5857583   2.21276854  3.8584174 ] 39.86563908133368\n",
            "700 [57.39995961  5.67817273  2.08404393  3.89640081] 39.8389400594238\n",
            "800 [57.39999464  5.75438313  1.97639627  3.92924192] 39.82036431518154\n",
            "900 [57.39999929  5.81729908  1.88638689  3.95751264] 39.807434697912825\n",
            "1000 [57.39999991  5.86929189  1.81113507  3.98175852] 39.798431885685766\n"
          ],
          "name": "stdout"
        },
        {
          "output_type": "execute_result",
          "data": {
            "text/plain": [
              "array([57.39999991,  5.86929189,  1.81113507,  3.98175852])"
            ]
          },
          "metadata": {
            "tags": []
          },
          "execution_count": 27
        }
      ]
    },
    {
      "cell_type": "code",
      "metadata": {
        "id": "1J3pFBhNPE1Z",
        "colab_type": "code",
        "colab": {}
      },
      "source": [
        "def eval_sgd_model(X, y, iterations, qty_in_batch, alpha=1e-4):\n",
        "  W = np.random.randn(X.shape[0])\n",
        "  n = X.shape[1]\n",
        "  n_batch = n // qty_in_batch\n",
        "  if n % qty_in_batch != 0:\n",
        "    n_batch += 1\n",
        "  for i in range(1, iterations+1):\n",
        "    for b in range(n_batch):\n",
        "      start_ = qty_in_batch*b\n",
        "      end_ = qty_in_batch*(b+1)\n",
        "      \n",
        "      # print(b, n_batch, start_, end_)\n",
        "      \n",
        "      X_tmp = X[:, start_ : end_]\n",
        "      y_tmp = y[start_ : end_]\n",
        "      y_pred_tmp = np.dot(W, X_tmp)\n",
        "      err = calc_mse(y_tmp, y_pred_tmp)\n",
        "      W -= (alpha * (1/n * 2 * np.dot((y_pred_tmp - y_tmp), X_tmp.T)))\n",
        "    if i % (iterations / 10) == 0:\n",
        "      print(i, W, err)\n",
        "  return W"
      ],
      "execution_count": 0,
      "outputs": []
    },
    {
      "cell_type": "code",
      "metadata": {
        "id": "PetBgy6cPQER",
        "colab_type": "code",
        "colab": {
          "base_uri": "https://localhost:8080/",
          "height": 196
        },
        "outputId": "07cb3c82-2612-489a-e358-225c6a4982ff"
      },
      "source": [
        "eval_sgd_model(X_st, y, iterations=5000, qty_in_batch=5, alpha=1e-2)"
      ],
      "execution_count": 30,
      "outputs": [
        {
          "output_type": "stream",
          "text": [
            "500 [57.39584135  5.76905383  1.8175198   4.1004993 ] 39.0907448278809\n",
            "1000 [57.39794453  6.01109545  1.58462747  4.09296494] 38.67374096052377\n",
            "1500 [57.39784842  6.09451387  1.48791035  4.1070851 ] 38.45516856335335\n",
            "2000 [57.39781238  6.12476319  1.44812756  4.1169898 ] 38.35443480602885\n",
            "2500 [57.39779849  6.13616174  1.4318549   4.12202375] 38.31054907950873\n",
            "3000 [57.39779303  6.14057379  1.42522065  4.12431304] 38.2919999954358\n",
            "3500 [57.39779086  6.14231216  1.4225212   4.12530189] 38.284291942383746\n",
            "4000 [57.39778999  6.14300488  1.42142408  4.12571768] 38.28112007429347\n",
            "4500 [57.39778964  6.14328288  1.42097849  4.12588993] 38.279822313408786\n",
            "5000 [57.39778949  6.14339492  1.4207976   4.12596068] 38.27929313647452\n"
          ],
          "name": "stdout"
        },
        {
          "output_type": "execute_result",
          "data": {
            "text/plain": [
              "array([57.39778949,  6.14339492,  1.4207976 ,  4.12596068])"
            ]
          },
          "metadata": {
            "tags": []
          },
          "execution_count": 30
        }
      ]
    },
    {
      "cell_type": "code",
      "metadata": {
        "id": "dE5DLgI6PVqd",
        "colab_type": "code",
        "colab": {}
      },
      "source": [
        "# L1 регуляризация"
      ],
      "execution_count": 0,
      "outputs": []
    },
    {
      "cell_type": "code",
      "metadata": {
        "id": "pxOyX_idPbkT",
        "colab_type": "code",
        "colab": {}
      },
      "source": [
        "#f(x, W) + (lambda_/2) * np.sum(np.abs(W))"
      ],
      "execution_count": 0,
      "outputs": []
    },
    {
      "cell_type": "code",
      "metadata": {
        "id": "ItCvztKXPoFa",
        "colab_type": "code",
        "colab": {}
      },
      "source": [
        "# L2 регуляризация"
      ],
      "execution_count": 0,
      "outputs": []
    },
    {
      "cell_type": "code",
      "metadata": {
        "id": "r3Mbw83zPuwK",
        "colab_type": "code",
        "colab": {}
      },
      "source": [
        "#f(x, W) + (lambda_/2) * np.sum(W**2)\n",
        "#df/dw1 = d(w1**2 + w2**2 + w3**2) / dw1 = 2*w1 + 0 + 0 = 2*w1\n",
        "#f'(x, W) + lambda_ * np.sum(W)\n"
      ],
      "execution_count": 0,
      "outputs": []
    },
    {
      "cell_type": "code",
      "metadata": {
        "id": "xhPisuXpP_mK",
        "colab_type": "code",
        "colab": {}
      },
      "source": [
        "def eval_model_reg2(X, y, iterations, alpha=1e-4, lambda_=1e-8):\n",
        "  np.random.seed(42)\n",
        "  W = np.random.randn(X.shape[0])\n",
        "  n = X.shape[1]\n",
        "  for i in range(1, iterations+1):\n",
        "    y_pred = np.dot(W, X)\n",
        "    err = calc_mse(y, y_pred)\n",
        "    W -= alpha * (1/n * 2 * np.dot((y_pred - y), X.T) + lambda_ * W) \n",
        "    if i % (iterations / 10) == 0:\n",
        "      print(i, W, err)\n",
        "  return W"
      ],
      "execution_count": 0,
      "outputs": []
    },
    {
      "cell_type": "code",
      "metadata": {
        "id": "fSKAkkbTQESz",
        "colab_type": "code",
        "colab": {
          "base_uri": "https://localhost:8080/",
          "height": 196
        },
        "outputId": "46b418ad-9d16-4b40-bed1-9b78966cd48f"
      },
      "source": [
        "eval_model_reg2(X_st, y, iterations=5000, alpha=1e-2, lambda_=1e-4)"
      ],
      "execution_count": 36,
      "outputs": [
        {
          "output_type": "stream",
          "text": [
            "500 [57.39479705  5.10767868  2.46037345  4.08674902] 39.98166412253417\n",
            "1000 [57.39713005  5.765859    1.85689028  4.03893236] 39.807231204063974\n",
            "1500 [57.39713014  5.99060723  1.60529698  4.06885866] 39.78240504280037\n",
            "2000 [57.39713014  6.07152025  1.50155606  4.09300748] 39.7785235657889\n",
            "2500 [57.39713014  6.10185559  1.45905205  4.10572941] 39.77788748617128\n",
            "3000 [57.39713014  6.11355928  1.44170275  4.11160375] 39.77777930470261\n",
            "3500 [57.39713014  6.11816175  1.43463681  4.11416107] 39.77775983405893\n",
            "4000 [57.39713014  6.11999396  1.43176283  4.1152412 ] 39.777755943216036\n",
            "4500 [57.39713014  6.12072893  1.43059479  4.11568989] 39.77775502451415\n",
            "5000 [57.39713014  6.12102515  1.4301203   4.11587451] 39.777754760507676\n"
          ],
          "name": "stdout"
        },
        {
          "output_type": "execute_result",
          "data": {
            "text/plain": [
              "array([57.39713014,  6.12102515,  1.4301203 ,  4.11587451])"
            ]
          },
          "metadata": {
            "tags": []
          },
          "execution_count": 36
        }
      ]
    },
    {
      "cell_type": "code",
      "metadata": {
        "id": "mMnIvj0NQJ8c",
        "colab_type": "code",
        "colab": {}
      },
      "source": [
        "#C = 1/lambda_"
      ],
      "execution_count": 0,
      "outputs": []
    }
  ]
}