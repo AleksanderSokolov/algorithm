{
  "nbformat": 4,
  "nbformat_minor": 0,
  "metadata": {
    "colab": {
      "name": "Untitled1.ipynb",
      "provenance": [],
      "collapsed_sections": [],
      "include_colab_link": true
    },
    "kernelspec": {
      "name": "python3",
      "display_name": "Python 3"
    }
  },
  "cells": [
    {
      "cell_type": "markdown",
      "metadata": {
        "id": "view-in-github",
        "colab_type": "text"
      },
      "source": [
        "<a href=\"https://colab.research.google.com/github/AleksanderSokolov/algorithm/blob/master/part1/L02/DZ02.ipynb\" target=\"_parent\"><img src=\"https://colab.research.google.com/assets/colab-badge.svg\" alt=\"Open In Colab\"/></a>"
      ]
    },
    {
      "cell_type": "code",
      "metadata": {
        "id": "y5-UJ6Y1rYFn",
        "colab_type": "code",
        "colab": {}
      },
      "source": [
        "#1. Постройте график зависимости весов всех признаков от lambda в L2-регуляризации (на данных из урока).\n",
        "# 2. Можно ли к одному и тому же признаку применить сразу и нормализацию, и стандартизацию?\n",
        " #3*. Напишите функцию наподобие eval_model_reg2, но для применения L1-регуляризации."
      ],
      "execution_count": 0,
      "outputs": []
    },
    {
      "cell_type": "code",
      "metadata": {
        "id": "ZpnBPLLyVH_6",
        "colab_type": "code",
        "colab": {}
      },
      "source": [
        "#2. Нельзя. \n",
        "#Нормализация предполагает замену номинальных признаков так, чтобы каждый из них лежал в диапазоне от 0 до 1.\n",
        " #Стандартизация же подразумевает такую предобработку данных, после которой каждый признак имеет среднее 0 и дисперсию 1."
      ],
      "execution_count": 0,
      "outputs": []
    },
    {
      "cell_type": "code",
      "metadata": {
        "id": "pVQZGv6Kt7jJ",
        "colab_type": "code",
        "colab": {}
      },
      "source": [
        "import numpy as np\n",
        "import matplotlib.pyplot as plt"
      ],
      "execution_count": 0,
      "outputs": []
    },
    {
      "cell_type": "code",
      "metadata": {
        "id": "ltmLsKgHt963",
        "colab_type": "code",
        "colab": {}
      },
      "source": [
        "X = np.array([[1, 1, 1, 1, 1, 1, 1, 1, 1, 1],\n",
        "              [1, 1, 2, 1, 3, 0, 5, 10, 1, 2],\n",
        "              [500, 700, 750, 600, 1450,\n",
        "               800, 1500, 2000, 450, 1000],\n",
        "              [1, 1, 2, 1, 2, \n",
        "               1, 3, 3, 1, 2]])"
      ],
      "execution_count": 0,
      "outputs": []
    },
    {
      "cell_type": "code",
      "metadata": {
        "id": "oqb01W9zuA_w",
        "colab_type": "code",
        "colab": {}
      },
      "source": [
        "y = [45, 55, 50, 59, 65,\n",
        "    35, 75, 80, 50, 60]"
      ],
      "execution_count": 0,
      "outputs": []
    },
    {
      "cell_type": "code",
      "metadata": {
        "id": "ZL4XCz-guDw9",
        "colab_type": "code",
        "outputId": "02274760-1455-4901-84ad-788893776213",
        "colab": {
          "base_uri": "https://localhost:8080/",
          "height": 34
        }
      },
      "source": [
        "# Нормализация [0, 1]\n",
        "X[1].min(), X[1].max()"
      ],
      "execution_count": 7,
      "outputs": [
        {
          "output_type": "execute_result",
          "data": {
            "text/plain": [
              "(0, 10)"
            ]
          },
          "metadata": {
            "tags": []
          },
          "execution_count": 7
        }
      ]
    },
    {
      "cell_type": "code",
      "metadata": {
        "id": "N0VjfFr4uJol",
        "colab_type": "code",
        "outputId": "59e6f64a-2fda-4ead-df2d-3f352325345d",
        "colab": {
          "base_uri": "https://localhost:8080/",
          "height": 34
        }
      },
      "source": [
        "# Нормализация [0, 1]\n",
        "X[1].min(), X[1].max()"
      ],
      "execution_count": 8,
      "outputs": [
        {
          "output_type": "execute_result",
          "data": {
            "text/plain": [
              "(0, 10)"
            ]
          },
          "metadata": {
            "tags": []
          },
          "execution_count": 8
        }
      ]
    },
    {
      "cell_type": "code",
      "metadata": {
        "id": "R-ER6JJYuTBR",
        "colab_type": "code",
        "outputId": "e405fc17-522e-40b5-c2a7-1a22c5eebad4",
        "colab": {
          "base_uri": "https://localhost:8080/",
          "height": 34
        }
      },
      "source": [
        "X[2].min(), X[2].max()"
      ],
      "execution_count": 9,
      "outputs": [
        {
          "output_type": "execute_result",
          "data": {
            "text/plain": [
              "(450, 2000)"
            ]
          },
          "metadata": {
            "tags": []
          },
          "execution_count": 9
        }
      ]
    },
    {
      "cell_type": "code",
      "metadata": {
        "id": "Bnn33ynGua1y",
        "colab_type": "code",
        "outputId": "54f5dd7c-f953-45ff-fa16-1e7ec2ca95bf",
        "colab": {
          "base_uri": "https://localhost:8080/",
          "height": 158
        }
      },
      "source": [
        "X_norm = X.copy()\n",
        "X_norm = X_norm.astype(np.float64)\n",
        "X_norm"
      ],
      "execution_count": 10,
      "outputs": [
        {
          "output_type": "execute_result",
          "data": {
            "text/plain": [
              "array([[1.00e+00, 1.00e+00, 1.00e+00, 1.00e+00, 1.00e+00, 1.00e+00,\n",
              "        1.00e+00, 1.00e+00, 1.00e+00, 1.00e+00],\n",
              "       [1.00e+00, 1.00e+00, 2.00e+00, 1.00e+00, 3.00e+00, 0.00e+00,\n",
              "        5.00e+00, 1.00e+01, 1.00e+00, 2.00e+00],\n",
              "       [5.00e+02, 7.00e+02, 7.50e+02, 6.00e+02, 1.45e+03, 8.00e+02,\n",
              "        1.50e+03, 2.00e+03, 4.50e+02, 1.00e+03],\n",
              "       [1.00e+00, 1.00e+00, 2.00e+00, 1.00e+00, 2.00e+00, 1.00e+00,\n",
              "        3.00e+00, 3.00e+00, 1.00e+00, 2.00e+00]])"
            ]
          },
          "metadata": {
            "tags": []
          },
          "execution_count": 10
        }
      ]
    },
    {
      "cell_type": "code",
      "metadata": {
        "id": "YzMmtTHvuU-p",
        "colab_type": "code",
        "outputId": "003da2e2-1f39-4eab-e17f-44c197113cbb",
        "colab": {
          "base_uri": "https://localhost:8080/",
          "height": 158
        }
      },
      "source": [
        "X_norm[1] = (X[1] - X[1].min()) / (X[1].max() - X[1].min())\n",
        "X_norm"
      ],
      "execution_count": 11,
      "outputs": [
        {
          "output_type": "execute_result",
          "data": {
            "text/plain": [
              "array([[1.00e+00, 1.00e+00, 1.00e+00, 1.00e+00, 1.00e+00, 1.00e+00,\n",
              "        1.00e+00, 1.00e+00, 1.00e+00, 1.00e+00],\n",
              "       [1.00e-01, 1.00e-01, 2.00e-01, 1.00e-01, 3.00e-01, 0.00e+00,\n",
              "        5.00e-01, 1.00e+00, 1.00e-01, 2.00e-01],\n",
              "       [5.00e+02, 7.00e+02, 7.50e+02, 6.00e+02, 1.45e+03, 8.00e+02,\n",
              "        1.50e+03, 2.00e+03, 4.50e+02, 1.00e+03],\n",
              "       [1.00e+00, 1.00e+00, 2.00e+00, 1.00e+00, 2.00e+00, 1.00e+00,\n",
              "        3.00e+00, 3.00e+00, 1.00e+00, 2.00e+00]])"
            ]
          },
          "metadata": {
            "tags": []
          },
          "execution_count": 11
        }
      ]
    },
    {
      "cell_type": "code",
      "metadata": {
        "id": "ueYs3-gdukxG",
        "colab_type": "code",
        "outputId": "b9c3263f-d6ab-40a4-fcb5-4d3c1d979165",
        "colab": {
          "base_uri": "https://localhost:8080/",
          "height": 158
        }
      },
      "source": [
        "X_norm[2] = (X[2] - X[2].min()) / (X[2].max() - X[2].min())\n",
        "X_norm"
      ],
      "execution_count": 12,
      "outputs": [
        {
          "output_type": "execute_result",
          "data": {
            "text/plain": [
              "array([[1.        , 1.        , 1.        , 1.        , 1.        ,\n",
              "        1.        , 1.        , 1.        , 1.        , 1.        ],\n",
              "       [0.1       , 0.1       , 0.2       , 0.1       , 0.3       ,\n",
              "        0.        , 0.5       , 1.        , 0.1       , 0.2       ],\n",
              "       [0.03225806, 0.16129032, 0.19354839, 0.09677419, 0.64516129,\n",
              "        0.22580645, 0.67741935, 1.        , 0.        , 0.35483871],\n",
              "       [1.        , 1.        , 2.        , 1.        , 2.        ,\n",
              "        1.        , 3.        , 3.        , 1.        , 2.        ]])"
            ]
          },
          "metadata": {
            "tags": []
          },
          "execution_count": 12
        }
      ]
    },
    {
      "cell_type": "code",
      "metadata": {
        "id": "CqZTfvmOum_Y",
        "colab_type": "code",
        "colab": {}
      },
      "source": [
        "# Стандартизация"
      ],
      "execution_count": 0,
      "outputs": []
    },
    {
      "cell_type": "code",
      "metadata": {
        "id": "y2y0qlWHuvJg",
        "colab_type": "code",
        "outputId": "0179b40d-7c29-4b91-e88d-520143b6853b",
        "colab": {
          "base_uri": "https://localhost:8080/",
          "height": 317
        }
      },
      "source": [
        "plt.hist(X[1])"
      ],
      "execution_count": 14,
      "outputs": [
        {
          "output_type": "execute_result",
          "data": {
            "text/plain": [
              "(array([1., 4., 2., 1., 0., 1., 0., 0., 0., 1.]),\n",
              " array([ 0.,  1.,  2.,  3.,  4.,  5.,  6.,  7.,  8.,  9., 10.]),\n",
              " <a list of 10 Patch objects>)"
            ]
          },
          "metadata": {
            "tags": []
          },
          "execution_count": 14
        },
        {
          "output_type": "display_data",
          "data": {
            "image/png": "[encoded data removed]",
            "text/plain": [
              "<Figure size 432x288 with 1 Axes>"
            ]
          },
          "metadata": {
            "tags": []
          }
        }
      ]
    },
    {
      "cell_type": "code",
      "metadata": {
        "id": "UMfrJij_KZ8_",
        "colab_type": "code",
        "outputId": "e6e222fe-a7e6-478f-ae18-62d61205f13a",
        "colab": {
          "base_uri": "https://localhost:8080/",
          "height": 335
        }
      },
      "source": [
        "plt.hist(X[2])"
      ],
      "execution_count": 15,
      "outputs": [
        {
          "output_type": "execute_result",
          "data": {
            "text/plain": [
              "(array([3., 2., 1., 1., 0., 0., 2., 0., 0., 1.]),\n",
              " array([ 450.,  605.,  760.,  915., 1070., 1225., 1380., 1535., 1690.,\n",
              "        1845., 2000.]),\n",
              " <a list of 10 Patch objects>)"
            ]
          },
          "metadata": {
            "tags": []
          },
          "execution_count": 15
        },
        {
          "output_type": "display_data",
          "data": {
            "image/png": "[encoded data removed]",
            "text/plain": [
              "<Figure size 432x288 with 1 Axes>"
            ]
          },
          "metadata": {
            "tags": []
          }
        }
      ]
    },
    {
      "cell_type": "code",
      "metadata": {
        "id": "oP3vpyhtKe3Z",
        "colab_type": "code",
        "outputId": "90f49895-3d1b-483b-ec35-5af18e434fbc",
        "colab": {
          "base_uri": "https://localhost:8080/",
          "height": 34
        }
      },
      "source": [
        "X1_mean = X[1].mean()\n",
        "X1_mean"
      ],
      "execution_count": 16,
      "outputs": [
        {
          "output_type": "execute_result",
          "data": {
            "text/plain": [
              "2.6"
            ]
          },
          "metadata": {
            "tags": []
          },
          "execution_count": 16
        }
      ]
    },
    {
      "cell_type": "code",
      "metadata": {
        "id": "6czsGHLvKht1",
        "colab_type": "code",
        "outputId": "c4f17cb5-f351-48d5-e540-c50ed66f6f4a",
        "colab": {
          "base_uri": "https://localhost:8080/",
          "height": 34
        }
      },
      "source": [
        "X1_std = X[1].std()\n",
        "X1_std"
      ],
      "execution_count": 17,
      "outputs": [
        {
          "output_type": "execute_result",
          "data": {
            "text/plain": [
              "2.8000000000000003"
            ]
          },
          "metadata": {
            "tags": []
          },
          "execution_count": 17
        }
      ]
    },
    {
      "cell_type": "code",
      "metadata": {
        "id": "gzZ2b_GeKq9P",
        "colab_type": "code",
        "colab": {}
      },
      "source": [
        "X_st = X.copy().astype(np.float64)"
      ],
      "execution_count": 0,
      "outputs": []
    },
    {
      "cell_type": "code",
      "metadata": {
        "id": "llOJUCFmOC5K",
        "colab_type": "code",
        "outputId": "cfc7450c-b2df-4198-d088-dce29c486906",
        "colab": {
          "base_uri": "https://localhost:8080/",
          "height": 301
        }
      },
      "source": [
        "X_st[1] = (X[1] - X1_mean) / X1_std\n",
        "X_st"
      ],
      "execution_count": 19,
      "outputs": [
        {
          "output_type": "execute_result",
          "data": {
            "text/plain": [
              "array([[ 1.00000000e+00,  1.00000000e+00,  1.00000000e+00,\n",
              "         1.00000000e+00,  1.00000000e+00,  1.00000000e+00,\n",
              "         1.00000000e+00,  1.00000000e+00,  1.00000000e+00,\n",
              "         1.00000000e+00],\n",
              "       [-5.71428571e-01, -5.71428571e-01, -2.14285714e-01,\n",
              "        -5.71428571e-01,  1.42857143e-01, -9.28571429e-01,\n",
              "         8.57142857e-01,  2.64285714e+00, -5.71428571e-01,\n",
              "        -2.14285714e-01],\n",
              "       [ 5.00000000e+02,  7.00000000e+02,  7.50000000e+02,\n",
              "         6.00000000e+02,  1.45000000e+03,  8.00000000e+02,\n",
              "         1.50000000e+03,  2.00000000e+03,  4.50000000e+02,\n",
              "         1.00000000e+03],\n",
              "       [ 1.00000000e+00,  1.00000000e+00,  2.00000000e+00,\n",
              "         1.00000000e+00,  2.00000000e+00,  1.00000000e+00,\n",
              "         3.00000000e+00,  3.00000000e+00,  1.00000000e+00,\n",
              "         2.00000000e+00]])"
            ]
          },
          "metadata": {
            "tags": []
          },
          "execution_count": 19
        }
      ]
    },
    {
      "cell_type": "code",
      "metadata": {
        "id": "zGQFGiieOIsz",
        "colab_type": "code",
        "outputId": "a55261e5-f271-4352-e357-889898481ec6",
        "colab": {
          "base_uri": "https://localhost:8080/",
          "height": 353
        }
      },
      "source": [
        "plt.hist(X_st[1])"
      ],
      "execution_count": 20,
      "outputs": [
        {
          "output_type": "execute_result",
          "data": {
            "text/plain": [
              "(array([1., 4., 2., 1., 1., 0., 0., 0., 0., 1.]),\n",
              " array([-0.92857143, -0.57142857, -0.21428571,  0.14285714,  0.5       ,\n",
              "         0.85714286,  1.21428571,  1.57142857,  1.92857143,  2.28571429,\n",
              "         2.64285714]),\n",
              " <a list of 10 Patch objects>)"
            ]
          },
          "metadata": {
            "tags": []
          },
          "execution_count": 20
        },
        {
          "output_type": "display_data",
          "data": {
            "image/png": "[encoded data removed]",
            "text/plain": [
              "<Figure size 432x288 with 1 Axes>"
            ]
          },
          "metadata": {
            "tags": []
          }
        }
      ]
    },
    {
      "cell_type": "code",
      "metadata": {
        "id": "lbBSM1Y5OPq8",
        "colab_type": "code",
        "colab": {}
      },
      "source": [
        "def calc_std_feat(x):\n",
        "  res = (x - x.mean()) / x.std()\n",
        "  return res"
      ],
      "execution_count": 0,
      "outputs": []
    },
    {
      "cell_type": "code",
      "metadata": {
        "id": "jg4-XxmgOl4M",
        "colab_type": "code",
        "colab": {}
      },
      "source": [
        "X_st[2] = calc_std_feat(X[2])"
      ],
      "execution_count": 0,
      "outputs": []
    },
    {
      "cell_type": "code",
      "metadata": {
        "id": "TXJhIbAuOoCb",
        "colab_type": "code",
        "outputId": "3ace06d8-2eae-4423-d928-a6a17889ca17",
        "colab": {
          "base_uri": "https://localhost:8080/",
          "height": 158
        }
      },
      "source": [
        "X_st[3] = calc_std_feat(X[3])\n",
        "X_st"
      ],
      "execution_count": 23,
      "outputs": [
        {
          "output_type": "execute_result",
          "data": {
            "text/plain": [
              "array([[ 1.        ,  1.        ,  1.        ,  1.        ,  1.        ,\n",
              "         1.        ,  1.        ,  1.        ,  1.        ,  1.        ],\n",
              "       [-0.57142857, -0.57142857, -0.21428571, -0.57142857,  0.14285714,\n",
              "        -0.92857143,  0.85714286,  2.64285714, -0.57142857, -0.21428571],\n",
              "       [-0.97958969, -0.56713087, -0.46401617, -0.77336028,  0.97958969,\n",
              "        -0.36090146,  1.08270439,  2.11385144, -1.08270439,  0.05155735],\n",
              "       [-0.89625816, -0.89625816,  0.38411064, -0.89625816,  0.38411064,\n",
              "        -0.89625816,  1.66447944,  1.66447944, -0.89625816,  0.38411064]])"
            ]
          },
          "metadata": {
            "tags": []
          },
          "execution_count": 23
        }
      ]
    },
    {
      "cell_type": "code",
      "metadata": {
        "id": "4ECie0PGOrVU",
        "colab_type": "code",
        "outputId": "e9261467-9c7b-4621-c3d9-e754022d0fbb",
        "colab": {
          "base_uri": "https://localhost:8080/",
          "height": 158
        }
      },
      "source": [
        "X_st"
      ],
      "execution_count": 24,
      "outputs": [
        {
          "output_type": "execute_result",
          "data": {
            "text/plain": [
              "array([[ 1.        ,  1.        ,  1.        ,  1.        ,  1.        ,\n",
              "         1.        ,  1.        ,  1.        ,  1.        ,  1.        ],\n",
              "       [-0.57142857, -0.57142857, -0.21428571, -0.57142857,  0.14285714,\n",
              "        -0.92857143,  0.85714286,  2.64285714, -0.57142857, -0.21428571],\n",
              "       [-0.97958969, -0.56713087, -0.46401617, -0.77336028,  0.97958969,\n",
              "        -0.36090146,  1.08270439,  2.11385144, -1.08270439,  0.05155735],\n",
              "       [-0.89625816, -0.89625816,  0.38411064, -0.89625816,  0.38411064,\n",
              "        -0.89625816,  1.66447944,  1.66447944, -0.89625816,  0.38411064]])"
            ]
          },
          "metadata": {
            "tags": []
          },
          "execution_count": 24
        }
      ]
    },
    {
      "cell_type": "code",
      "metadata": {
        "id": "0klKFEFLOyFG",
        "colab_type": "code",
        "colab": {}
      },
      "source": [
        "# SGD"
      ],
      "execution_count": 0,
      "outputs": []
    },
    {
      "cell_type": "code",
      "metadata": {
        "id": "oV7uxT-BO3B0",
        "colab_type": "code",
        "colab": {}
      },
      "source": [
        "def calc_mse(y, y_pred):\n",
        "  err = np.mean((y - y_pred)**2)\n",
        "  return err"
      ],
      "execution_count": 0,
      "outputs": []
    },
    {
      "cell_type": "code",
      "metadata": {
        "id": "n5vnZJteO8xP",
        "colab_type": "code",
        "colab": {}
      },
      "source": [
        "def eval_model(X, y, iterations, alpha=1e-4):\n",
        "  W = np.random.randn(X.shape[0])\n",
        "  n = X.shape[1]\n",
        "  for i in range(1, iterations+1):\n",
        "    y_pred = np.dot(W, X)\n",
        "    err = calc_mse(y, y_pred)\n",
        "    W -= (alpha * (1/n * 2 * np.dot((y_pred - y), X.T)))\n",
        "    if i % (iterations / 10) == 0:\n",
        "      print(i, W, err)\n",
        "  return W"
      ],
      "execution_count": 0,
      "outputs": []
    },
    {
      "cell_type": "code",
      "metadata": {
        "id": "9zJCh1qDO_O3",
        "colab_type": "code",
        "outputId": "e507254a-ab43-4f66-f4e0-79bb4be43287",
        "colab": {
          "base_uri": "https://localhost:8080/",
          "height": 212
        }
      },
      "source": [
        "eval_model(X_st, y, iterations=1000, alpha=1e-2)"
      ],
      "execution_count": 28,
      "outputs": [
        {
          "output_type": "stream",
          "text": [
            "100 [49.90941535  4.97619537  3.71502824  2.91055387] 98.93183091028726\n",
            "200 [56.40660199  5.15350099  3.34404342  3.14295405] 41.311854875571136\n",
            "300 [57.268256    5.29751945  3.02572523  3.32186608] 40.14745504288608\n",
            "400 [57.38252817  5.42164565  2.76047406  3.46672342] 40.0223561275338\n",
            "500 [57.39768289  5.52823344  2.53942084  3.58428553] 39.94758661086509\n",
            "600 [57.39969271  5.61945353  2.35516473  3.67989256] 39.8958848998892\n",
            "700 [57.39995925  5.6972962   2.20155292  3.75779743] 39.859962849031284\n",
            "800 [57.3999946   5.76355746  2.07346811  3.821396  ] 39.834985408270356\n",
            "900 [57.39999928  5.81983809  1.96665259  3.87340677] 39.817608563829474\n",
            "1000 [57.3999999   5.86755098  1.87756265  3.91601149] 39.80551410715642\n"
          ],
          "name": "stdout"
        },
        {
          "output_type": "execute_result",
          "data": {
            "text/plain": [
              "array([57.3999999 ,  5.86755098,  1.87756265,  3.91601149])"
            ]
          },
          "metadata": {
            "tags": []
          },
          "execution_count": 28
        }
      ]
    },
    {
      "cell_type": "code",
      "metadata": {
        "id": "1J3pFBhNPE1Z",
        "colab_type": "code",
        "colab": {}
      },
      "source": [
        "def eval_sgd_model(X, y, iterations, qty_in_batch, alpha=1e-4):\n",
        "  W = np.random.randn(X.shape[0])\n",
        "  n = X.shape[1]\n",
        "  n_batch = n // qty_in_batch\n",
        "  if n % qty_in_batch != 0:\n",
        "    n_batch += 1\n",
        "  for i in range(1, iterations+1):\n",
        "    for b in range(n_batch):\n",
        "      start_ = qty_in_batch*b\n",
        "      end_ = qty_in_batch*(b+1)\n",
        "      \n",
        "      # print(b, n_batch, start_, end_)\n",
        "      \n",
        "      X_tmp = X[:, start_ : end_]\n",
        "      y_tmp = y[start_ : end_]\n",
        "      y_pred_tmp = np.dot(W, X_tmp)\n",
        "      err = calc_mse(y_tmp, y_pred_tmp)\n",
        "      W -= (alpha * (1/n * 2 * np.dot((y_pred_tmp - y_tmp), X_tmp.T)))\n",
        "    if i % (iterations / 10) == 0:\n",
        "      print(i, W, err)\n",
        "  return W"
      ],
      "execution_count": 0,
      "outputs": []
    },
    {
      "cell_type": "code",
      "metadata": {
        "id": "PetBgy6cPQER",
        "colab_type": "code",
        "outputId": "f26712d6-03f9-479e-88e3-2da6bd73a0d3",
        "colab": {
          "base_uri": "https://localhost:8080/",
          "height": 212
        }
      },
      "source": [
        "eval_sgd_model(X_st, y, iterations=5000, qty_in_batch=5, alpha=1e-2)"
      ],
      "execution_count": 30,
      "outputs": [
        {
          "output_type": "stream",
          "text": [
            "500 [57.3957835   5.75989995  1.49305848  4.439241  ] 37.561686622412395\n",
            "1000 [57.39788989  6.03832367  1.45765691  4.19446072] 38.15443084704516\n",
            "1500 [57.39781997  6.11308485  1.43753135  4.13952513] 38.27124632703895\n",
            "2000 [57.39779931  6.13412735  1.42796387  4.12802643] 38.28642026436893\n",
            "2500 [57.39779281  6.14040584  1.42374121  4.12598483] 38.28456090760517\n",
            "3000 [57.39779064  6.14240388  1.42194509  4.12579449] 38.281845887305984\n",
            "3500 [57.39778986  6.14308097  1.42119621  4.12587239] 38.280266806825054\n",
            "4000 [57.39778958  6.1433232   1.42088747  4.12594172] 38.279509960260945\n",
            "4500 [57.39778947  6.14341358  1.42076101  4.12597902] 38.279174635390554\n",
            "5000 [57.39778943  6.14344833  1.42070942  4.12599638] 38.27903171555537\n"
          ],
          "name": "stdout"
        },
        {
          "output_type": "execute_result",
          "data": {
            "text/plain": [
              "array([57.39778943,  6.14344833,  1.42070942,  4.12599638])"
            ]
          },
          "metadata": {
            "tags": []
          },
          "execution_count": 30
        }
      ]
    },
    {
      "cell_type": "code",
      "metadata": {
        "id": "dE5DLgI6PVqd",
        "colab_type": "code",
        "colab": {}
      },
      "source": [
        "# L1 регуляризация"
      ],
      "execution_count": 0,
      "outputs": []
    },
    {
      "cell_type": "code",
      "metadata": {
        "id": "pxOyX_idPbkT",
        "colab_type": "code",
        "colab": {}
      },
      "source": [
        "#f(x, W) + (lambda_/2) * np.sum(np.abs(W))"
      ],
      "execution_count": 0,
      "outputs": []
    },
    {
      "cell_type": "code",
      "metadata": {
        "id": "ItCvztKXPoFa",
        "colab_type": "code",
        "colab": {}
      },
      "source": [
        "# L2 регуляризация"
      ],
      "execution_count": 0,
      "outputs": []
    },
    {
      "cell_type": "code",
      "metadata": {
        "id": "r3Mbw83zPuwK",
        "colab_type": "code",
        "colab": {}
      },
      "source": [
        "#f(x, W) + (lambda_/2) * np.sum(W**2)\n",
        "#df/dw1 = d(w1**2 + w2**2 + w3**2) / dw1 = 2*w1 + 0 + 0 = 2*w1\n",
        "#f'(x, W) + lambda_ * np.sum(W)\n"
      ],
      "execution_count": 0,
      "outputs": []
    },
    {
      "cell_type": "code",
      "metadata": {
        "id": "xhPisuXpP_mK",
        "colab_type": "code",
        "colab": {}
      },
      "source": [
        "def eval_model_reg2(X, y, iterations, alpha=1e-4, lambda_=1e-8):\n",
        "  np.random.seed(42)\n",
        "  W = np.random.randn(X.shape[0])\n",
        "  n = X.shape[1]\n",
        "  for i in range(1, iterations+1):\n",
        "    y_pred = np.dot(W, X)\n",
        "    err = calc_mse(y, y_pred)\n",
        "    W -= alpha * (1/n * 2 * np.dot((y_pred - y), X.T) + lambda_ * W) \n",
        "    #if i % (iterations / 10) == 0:\n",
        "      #print(i, W, err)\n",
        "  return W"
      ],
      "execution_count": 0,
      "outputs": []
    },
    {
      "cell_type": "code",
      "metadata": {
        "id": "JvFYQLUC8Oht",
        "colab_type": "code",
        "colab": {}
      },
      "source": [
        ""
      ],
      "execution_count": 0,
      "outputs": []
    },
    {
      "cell_type": "code",
      "metadata": {
        "id": "fSKAkkbTQESz",
        "colab_type": "code",
        "outputId": "ade1cb8b-58f5-4066-a637-fcc96e90f435",
        "colab": {
          "base_uri": "https://localhost:8080/",
          "height": 34
        }
      },
      "source": [
        "eval_model_reg2(X_st, y, iterations=5000, alpha=1e-2, lambda_=1e-4)"
      ],
      "execution_count": 35,
      "outputs": [
        {
          "output_type": "execute_result",
          "data": {
            "text/plain": [
              "array([57.39713014,  6.12102515,  1.4301203 ,  4.11587451])"
            ]
          },
          "metadata": {
            "tags": []
          },
          "execution_count": 35
        }
      ]
    },
    {
      "cell_type": "code",
      "metadata": {
        "id": "zvrhuU0Y8RZt",
        "colab_type": "code",
        "colab": {}
      },
      "source": [
        "def eval_model_reg2_plot(X, y, iterations, alpha=1e-4, lambda_=1e-8):\n",
        "  np.random.seed(42)\n",
        "  W = np.random.randn(X.shape[0])\n",
        "  n = X.shape[1]\n",
        "  for i in range(1, iterations+1):\n",
        "    y_pred = np.dot(W, X)\n",
        "    err = calc_mse(y, y_pred)\n",
        "    W -= alpha * (1/n * 2 * np.dot((y_pred - y), X.T) + lambda_ * W) \n",
        "    #for k in  range (4):\n",
        "    plt.plot(W[0])\n",
        "    if i % (iterations / 10) == 0:\n",
        "      print(i, W, err)\n",
        "  return W"
      ],
      "execution_count": 0,
      "outputs": []
    },
    {
      "cell_type": "code",
      "metadata": {
        "id": "50zAzG1gcqk2",
        "colab_type": "code",
        "outputId": "557524da-eed4-4bda-9c1f-1bd0f140ba36",
        "colab": {
          "base_uri": "https://localhost:8080/",
          "height": 460
        }
      },
      "source": [
        "eval_model_reg2_plot(X_st, y, iterations=50, alpha=1e-2, lambda_=1e-4)"
      ],
      "execution_count": 37,
      "outputs": [
        {
          "output_type": "stream",
          "text": [
            "5 [5.9639232  0.68832844 1.4280269  2.29794545] 2850.1918997994508\n",
            "10 [10.90582194  1.31821367  2.00993692  2.87764238] 2322.777023913738\n",
            "15 [15.3728842   1.80005322  2.44264521  3.31056597] 1897.7344397474146\n",
            "20 [19.41073407  2.1704481   2.76317604  3.63315228] 1553.7756238207191\n",
            "25 [23.06061193  2.45692804  2.99937596  3.87280492] 1274.6188725885277\n",
            "30 [26.35979559  2.68019998  3.17218876  4.05013398] 1047.5902478856601\n",
            "35 [29.3419811   2.85583932  3.29736647  4.18063999] 862.6902865996701\n",
            "40 [32.03762685  2.99556183  3.38675628  4.27598044] 711.9501400248078\n",
            "45 [34.47426468  3.10818037  3.44926846  4.34492243] 588.9726445457896\n",
            "50 [36.67678104  3.20032444  3.49160433  4.39405908] 488.59533092414614\n"
          ],
          "name": "stdout"
        },
        {
          "output_type": "execute_result",
          "data": {
            "text/plain": [
              "array([36.67678104,  3.20032444,  3.49160433,  4.39405908])"
            ]
          },
          "metadata": {
            "tags": []
          },
          "execution_count": 37
        },
        {
          "output_type": "display_data",
          "data": {
            "image/png": "[encoded data removed]",
            "text/plain": [
              "<Figure size 432x288 with 1 Axes>"
            ]
          },
          "metadata": {
            "tags": []
          }
        }
      ]
    },
    {
      "cell_type": "code",
      "metadata": {
        "id": "UGeVcxx7cy3n",
        "colab_type": "code",
        "outputId": "a7eb29b0-3658-42b7-c863-322c86c63a59",
        "colab": {
          "base_uri": "https://localhost:8080/",
          "height": 34
        }
      },
      "source": [
        "X[1,:]"
      ],
      "execution_count": 38,
      "outputs": [
        {
          "output_type": "execute_result",
          "data": {
            "text/plain": [
              "array([ 1,  1,  2,  1,  3,  0,  5, 10,  1,  2])"
            ]
          },
          "metadata": {
            "tags": []
          },
          "execution_count": 38
        }
      ]
    },
    {
      "cell_type": "code",
      "metadata": {
        "id": "dwl-hHujcz17",
        "colab_type": "code",
        "colab": {
          "base_uri": "https://localhost:8080/",
          "height": 34
        },
        "outputId": "8c0f75e0-229d-4529-e95a-6feb72a80fb2"
      },
      "source": [
        "eval_model_reg2(X_st, y, iterations=5000, alpha=1e-2, lambda_=1e-4)"
      ],
      "execution_count": 39,
      "outputs": [
        {
          "output_type": "execute_result",
          "data": {
            "text/plain": [
              "array([57.39713014,  6.12102515,  1.4301203 ,  4.11587451])"
            ]
          },
          "metadata": {
            "tags": []
          },
          "execution_count": 39
        }
      ]
    },
    {
      "cell_type": "code",
      "metadata": {
        "id": "mMnIvj0NQJ8c",
        "colab_type": "code",
        "colab": {}
      },
      "source": [
        "#C = 1/lambda_"
      ],
      "execution_count": 0,
      "outputs": []
    },
    {
      "cell_type": "code",
      "metadata": {
        "id": "dZuYY8BaUkAb",
        "colab_type": "code",
        "colab": {}
      },
      "source": [
        ""
      ],
      "execution_count": 0,
      "outputs": []
    },
    {
      "cell_type": "code",
      "metadata": {
        "id": "xQPqOkXa1Xuq",
        "colab_type": "code",
        "colab": {
          "base_uri": "https://localhost:8080/",
          "height": 34
        },
        "outputId": "e77bb8b2-732f-4e33-fd08-ff400f465d32"
      },
      "source": [
        "l_arr=np.arange(0.15,0.2,1e-3)\n",
        "len(l_arr)\n"
      ],
      "execution_count": 117,
      "outputs": [
        {
          "output_type": "execute_result",
          "data": {
            "text/plain": [
              "51"
            ]
          },
          "metadata": {
            "tags": []
          },
          "execution_count": 117
        }
      ]
    },
    {
      "cell_type": "code",
      "metadata": {
        "id": "Nl3eXx8m-3UD",
        "colab_type": "code",
        "colab": {
          "base_uri": "https://localhost:8080/",
          "height": 34
        },
        "outputId": "04af8860-b3ca-4ac8-9471-5227d7466a08"
      },
      "source": [
        "len(w_arr)"
      ],
      "execution_count": 92,
      "outputs": [
        {
          "output_type": "execute_result",
          "data": {
            "text/plain": [
              "8"
            ]
          },
          "metadata": {
            "tags": []
          },
          "execution_count": 92
        }
      ]
    },
    {
      "cell_type": "code",
      "metadata": {
        "id": "NQHPQ1uk25Iv",
        "colab_type": "code",
        "colab": {
          "base_uri": "https://localhost:8080/",
          "height": 923
        },
        "outputId": "5ca86387-dc7b-4224-a0f7-b36e667f3a3e"
      },
      "source": [
        "w_arr = [eval_model_reg2(X_st, y, iterations=5000, alpha=1e-2, lambda_=l_arr[len(l_arr)-1])]\n",
        "\n",
        "for l in range(len(l_arr)-1):\n",
        "  w_arr=np.append(w_arr, [eval_model_reg2(X_st, y, iterations=5000, alpha=1e-2, lambda_=l_arr[l])],axis=0)\n",
        "\n",
        "w_arr"
      ],
      "execution_count": 118,
      "outputs": [
        {
          "output_type": "execute_result",
          "data": {
            "text/plain": [
              "array([[52.18181818,  4.87503598,  2.61183202,  3.75830509],\n",
              "       [53.39534884,  5.0668987 ,  2.46618896,  3.81301226],\n",
              "       [53.37052534,  5.06261603,  2.4696304 ,  3.81181124],\n",
              "       [53.34572491,  5.05835399,  2.4730471 ,  3.81061534],\n",
              "       [53.32094752,  5.05411242,  2.47643928,  3.80942452],\n",
              "       [53.29619313,  5.04989113,  2.47980716,  3.8082387 ],\n",
              "       [53.27146172,  5.04568997,  2.48315096,  3.80705785],\n",
              "       [53.24675325,  5.04150876,  2.48647091,  3.8058819 ],\n",
              "       [53.22206769,  5.03734734,  2.48976721,  3.80471081],\n",
              "       [53.197405  ,  5.03320553,  2.49304009,  3.80354452],\n",
              "       [53.17276517,  5.02908319,  2.49628975,  3.80238298],\n",
              "       [53.14814815,  5.02498014,  2.49951639,  3.80122614],\n",
              "       [53.12355391,  5.02089623,  2.50272024,  3.80007396],\n",
              "       [53.09898242,  5.0168313 ,  2.50590148,  3.79892638],\n",
              "       [53.07443366,  5.0127852 ,  2.50906032,  3.79778335],\n",
              "       [53.04990758,  5.00875777,  2.51219696,  3.79664483],\n",
              "       [53.02540416,  5.00474886,  2.5153116 ,  3.79551077],\n",
              "       [53.00092336,  5.00075832,  2.51840442,  3.79438112],\n",
              "       [52.97646516,  4.996786  ,  2.52147563,  3.79325584],\n",
              "       [52.95202952,  4.99283175,  2.5245254 ,  3.79213489],\n",
              "       [52.92761641,  4.98889543,  2.52755394,  3.79101821],\n",
              "       [52.90322581,  4.9849769 ,  2.53056141,  3.78990577],\n",
              "       [52.87885767,  4.98107601,  2.53354801,  3.78879751],\n",
              "       [52.85451197,  4.97719261,  2.53651391,  3.78769341],\n",
              "       [52.83018868,  4.97332658,  2.53945931,  3.78659341],\n",
              "       [52.80588776,  4.96947777,  2.54238436,  3.78549747],\n",
              "       [52.7816092 ,  4.96564605,  2.54528925,  3.78440556],\n",
              "       [52.75735294,  4.96183129,  2.54817415,  3.78331763],\n",
              "       [52.73311897,  4.95803334,  2.55103923,  3.78223365],\n",
              "       [52.70890725,  4.95425208,  2.55388466,  3.78115356],\n",
              "       [52.68471776,  4.95048737,  2.5567106 ,  3.78007734],\n",
              "       [52.66055046,  4.9467391 ,  2.55951723,  3.77900494],\n",
              "       [52.63640532,  4.94300712,  2.56230471,  3.77793634],\n",
              "       [52.61228231,  4.93929132,  2.56507319,  3.77687148],\n",
              "       [52.5881814 ,  4.93559156,  2.56782284,  3.77581033],\n",
              "       [52.56410256,  4.93190773,  2.57055381,  3.77475286],\n",
              "       [52.54004577,  4.9282397 ,  2.57326626,  3.77369903],\n",
              "       [52.51601098,  4.92458735,  2.57596035,  3.7726488 ],\n",
              "       [52.49199817,  4.92095057,  2.57863623,  3.77160214],\n",
              "       [52.46800731,  4.91732922,  2.58129405,  3.77055902],\n",
              "       [52.44403837,  4.9137232 ,  2.58393396,  3.76951939],\n",
              "       [52.42009132,  4.91013239,  2.5865561 ,  3.76848323],\n",
              "       [52.39616613,  4.90655667,  2.58916063,  3.76745051],\n",
              "       [52.37226277,  4.90299593,  2.59174768,  3.76642118],\n",
              "       [52.34838121,  4.89945006,  2.59431741,  3.76539522],\n",
              "       [52.32452142,  4.89591894,  2.59686995,  3.76437259],\n",
              "       [52.30068337,  4.89240246,  2.59940545,  3.76335327],\n",
              "       [52.27686703,  4.88890053,  2.60192403,  3.76233721],\n",
              "       [52.25307237,  4.88541302,  2.60442585,  3.7613244 ],\n",
              "       [52.22929936,  4.88193983,  2.60691103,  3.7603148 ],\n",
              "       [52.20554798,  4.87848085,  2.60937971,  3.75930837]])"
            ]
          },
          "metadata": {
            "tags": []
          },
          "execution_count": 118
        }
      ]
    },
    {
      "cell_type": "code",
      "metadata": {
        "id": "yGScLJPLNs2p",
        "colab_type": "code",
        "colab": {
          "base_uri": "https://localhost:8080/",
          "height": 264
        },
        "outputId": "3eb742dd-3006-4379-a43c-efa919a9d1f4"
      },
      "source": [
        "for i in range(len(w_arr[0,:])) :\n",
        "  #plt.plot(l_arr,w_arr[:,i])\n",
        "  plt.plot(l_arr,w_arr[:,i])\n",
        " "
      ],
      "execution_count": 119,
      "outputs": [
        {
          "output_type": "display_data",
          "data": {
            "image/png": "[encoded data removed]",
            "text/plain": [
              "<Figure size 432x288 with 1 Axes>"
            ]
          },
          "metadata": {
            "tags": []
          }
        }
      ]
    }
  ]
}